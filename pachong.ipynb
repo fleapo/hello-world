{
 "cells": [
  {
   "cell_type": "code",
   "execution_count": 8,
   "metadata": {
    "collapsed": false
   },
   "outputs": [
    {
     "data": {
      "text/plain": [
       "3"
      ]
     },
     "execution_count": 8,
     "metadata": {},
     "output_type": "execute_result"
    }
   ],
   "source": [
    "a =1\n",
    "b=2\n",
    "a+b"
   ]
  },
  {
   "cell_type": "code",
   "execution_count": 9,
   "metadata": {
    "collapsed": false
   },
   "outputs": [
    {
     "data": {
      "text/plain": [
       "8"
      ]
     },
     "execution_count": 9,
     "metadata": {},
     "output_type": "execute_result"
    }
   ],
   "source": [
    "a = 2\n",
    "b= 6\n",
    "a+b"
   ]
  },
  {
   "cell_type": "code",
   "execution_count": 2,
   "metadata": {
    "collapsed": false
   },
   "outputs": [
    {
     "name": "stdout",
     "output_type": "stream",
     "text": [
      "Populating the interactive namespace from numpy and matplotlib\n"
     ]
    }
   ],
   "source": [
    "%pylab inline"
   ]
  },
  {
   "cell_type": "code",
   "execution_count": 3,
   "metadata": {
    "collapsed": true
   },
   "outputs": [
    {
     "data": {
      "text/plain": [
       "[<matplotlib.lines.Line2D at 0x6438190>]"
      ]
     },
     "execution_count": 3,
     "metadata": {},
     "output_type": "execute_result"
    },
    {
     "data": {
      "image/png": "[encoded data removed]",
      "text/plain": [
       "<matplotlib.figure.Figure at 0x62c8cf0>"
      ]
     },
     "metadata": {},
     "output_type": "display_data"
    }
   ],
   "source": [
    "plot(range(1,10),[random.randint(1,10) for i in range(1,10)])"
   ]
  },
  {
   "cell_type": "code",
   "execution_count": 58,
   "metadata": {
    "collapsed": true
   },
   "outputs": [
    {
     "name": "stdout",
     "output_type": "stream",
     "text": [
      "¥169.00\n",
      "¥159.00\n",
      "¥199.00\n",
      "¥139.00\n",
      "¥198.00\n",
      "¥59.9\n",
      "¥138.00\n",
      "¥139.00\n",
      "¥59.90\n",
      "¥159.00\n",
      "¥75.0\n",
      "¥79.80\n",
      "¥99.00\n",
      "¥109.00\n",
      "¥75.00\n",
      "¥68.0\n",
      "¥150.00\n",
      "¥79.00\n",
      "¥179.00\n",
      "¥150.00\n",
      "¥98.0\n",
      "¥148.00\n",
      "¥88.00\n",
      "¥169.00\n",
      "¥159.00\n",
      "¥65.00\n",
      "¥129.00\n",
      "¥198.00\n",
      "¥169.00\n",
      "¥115.00\n"
     ]
    }
   ],
   "source": [
    "import requests\n",
    "from bs4 import BeautifulSoup\n",
    "#headers = {'User-Agent':'Mozilla/5.0 (Windows NT 6.1; WOW64) AppleWebKit/537.36 (KHTML, like Gecko) Chrome/50.0.2661.75 Safari/537.36'}\n",
    "res = requests.get(\"http://search.yhd.com/c0-0/k%25E8%25A3%2599%25E5%25AD%2590/1/?tp=1.1.12.0.15.LGz1HxD-00-8fN8B\",headers = headers)\n",
    "#print res.text\n",
    "soup = BeautifulSoup(res.text)\n",
    "for item in soup.select('.itemBox'):\n",
    "    print item.select('.num')[0].text.strip(),.mainTitle\n",
    "#print res.headers\n"
   ]
  },
  {
   "cell_type": "code",
   "execution_count": 8,
   "metadata": {
    "collapsed": false
   },
   "outputs": [
    {
     "name": "stdout",
     "output_type": "stream",
     "text": [
      "0831 11:00 11:07\n",
      "0133 11:24 11:32\n",
      "0633 11:36 11:44\n",
      "0837 12:00 12:07\n",
      "0139 12:24 12:32\n",
      "0639 12:36 12:44\n",
      "0843 13:00 13:07\n",
      "0145 13:24 13:32\n",
      "0645 13:36 13:44\n",
      "1647 13:48 13:55\n"
     ]
    }
   ],
   "source": [
    "import requests\n",
    "from bs4 import BeautifulSoup\n",
    "payload = {\n",
    "    'StartStation':'977abb69-413a-4ccf-a109-0272c24fd490',\n",
    "    'EndStation':'e6e26e66-7dc1-458f-b2f3-71ce65fdc95f',\n",
    "    'SearchDate':'2016/04/23',\n",
    "    'SearchTime':'11:00',\n",
    "    'SearchWay':'DepartureInMandarin'\n",
    "}\n",
    "res = requests.post(\"http://www.thsrc.com.tw/tw/TimeTable/SearchResult\",data = payload)\n",
    "soup = BeautifulSoup(res.text,\"html.parser\")\n",
    "for item in soup.select('.touch_table'):\n",
    "    print item.select('.column1')[0].text.strip(),\n",
    "    print item.select('.column3')[0].text.strip(),\n",
    "    print item.select('.column4')[0].text.strip()#print之后加上逗号，就可以实现不换行输出\n",
    "#print res.text.touch_table"
   ]
  },
  {
   "cell_type": "code",
   "execution_count": 2,
   "metadata": {
    "collapsed": false
   },
   "outputs": [
    {
     "ename": "ImportError",
     "evalue": "No module named selenium",
     "output_type": "error",
     "traceback": [
      "\u001b[1;31m---------------------------------------------------------------------------\u001b[0m",
      "\u001b[1;31mImportError\u001b[0m                               Traceback (most recent call last)",
      "\u001b[1;32m<ipython-input-2-d2869864f694>\u001b[0m in \u001b[0;36m<module>\u001b[1;34m()\u001b[0m\n\u001b[1;32m----> 1\u001b[1;33m \u001b[1;32mfrom\u001b[0m \u001b[0mselenium\u001b[0m \u001b[1;32mimport\u001b[0m \u001b[0mselenium\u001b[0m\u001b[1;33m\u001b[0m\u001b[0m\n\u001b[0m",
      "\u001b[1;31mImportError\u001b[0m: No module named selenium"
     ]
    }
   ],
   "source": [
    "from selenium import selenium"
   ]
  },
  {
   "cell_type": "code",
   "execution_count": 5,
   "metadata": {
    "collapsed": false
   },
   "outputs": [
    {
     "data": {
      "text/html": [
       "<img src=\"https://drscdn.500px.org/photo/150462177/q%3D80_m%3D2000/1923c3cae24b9939d4b2de14a009a701\"/>"
      ],
      "text/plain": [
       "<IPython.core.display.Image object>"
      ]
     },
     "execution_count": 5,
     "metadata": {},
     "output_type": "execute_result"
    }
   ],
   "source": [
    "from IPython.display import HTML, Image, YouTubeVideo\n",
    "from IPython.display import Image\n",
    "Image(url='https://drscdn.500px.org/photo/150462177/q%3D80_m%3D2000/1923c3cae24b9939d4b2de14a009a701')"
   ]
  },
  {
   "cell_type": "code",
   "execution_count": 4,
   "metadata": {
    "collapsed": false
   },
   "outputs": [
    {
     "name": "stdout",
     "output_type": "stream",
     "text": [
      "Enter password: ········\n",
      "Verify password: ········\n"
     ]
    },
    {
     "data": {
      "text/plain": [
       "'sha1:b85314acd988:3c96cd6060c1fd827c755da22dff3ee8529d81d3'"
      ]
     },
     "execution_count": 4,
     "metadata": {},
     "output_type": "execute_result"
    }
   ],
   "source": [
    "In [1]: from notebook.auth import passwd\n",
    "In [2]: passwd()"
   ]
  },
  {
   "cell_type": "code",
   "execution_count": null,
   "metadata": {
    "collapsed": true
   },
   "outputs": [],
   "source": []
  }
 ],
 "metadata": {
  "kernelspec": {
   "display_name": "Python 2",
   "language": "python",
   "name": "python2"
  },
  "language_info": {
   "codemirror_mode": {
    "name": "ipython",
    "version": 2
   },
   "file_extension": ".py",
   "mimetype": "text/x-python",
   "name": "python",
   "nbconvert_exporter": "python",
   "pygments_lexer": "ipython2",
   "version": "2.7.11"
  }
 },
 "nbformat": 4,
 "nbformat_minor": 0
}
